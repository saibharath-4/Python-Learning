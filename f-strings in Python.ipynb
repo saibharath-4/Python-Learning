{
 "cells": [
  {
   "cell_type": "markdown",
   "metadata": {},
   "source": [
    "PEP 498 introduced a new string formatting mechanism known as Literal String Interpolation or more commonly as F-strings (because of the leading f character preceding the string literal). The idea behind f-strings is to make string interpolation simpler. \n",
    "To create an f-string, prefix the string with the letter “ f ”. The string itself can be formatted in much the same way that you would with str.format(). F-strings provide a concise and convenient way to embed python expressions inside string literals for formatting. "
   ]
  },
  {
   "cell_type": "code",
   "execution_count": 1,
   "metadata": {},
   "outputs": [
    {
     "name": "stdout",
     "output_type": "stream",
     "text": [
      "GeeksforGeeks is a portal for Geeks.\n",
      "Hello, My name is Tushar and I'm 23 years old.\n"
     ]
    }
   ],
   "source": [
    "# Python3 program introducing f-string\n",
    "val = 'Geeks'\n",
    "print(f\"{val}for{val} is a portal for {val}.\")\n",
    " \n",
    " \n",
    "name = 'Tushar'\n",
    "age = 23\n",
    "print(f\"Hello, My name is {name} and I'm {age} years old.\")"
   ]
  },
  {
   "cell_type": "code",
   "execution_count": 2,
   "metadata": {},
   "outputs": [
    {
     "name": "stdout",
     "output_type": "stream",
     "text": [
      "May 16, 2021\n"
     ]
    }
   ],
   "source": [
    "# Prints today's date with help\n",
    "# of datetime library\n",
    "import datetime\n",
    " \n",
    "today = datetime.datetime.today()\n",
    "print(f\"{today:%B %d, %Y}\")"
   ]
  },
  {
   "cell_type": "code",
   "execution_count": null,
   "metadata": {},
   "outputs": [],
   "source": []
  }
 ],
 "metadata": {
  "kernelspec": {
   "display_name": "Python 3",
   "language": "python",
   "name": "python3"
  },
  "language_info": {
   "codemirror_mode": {
    "name": "ipython",
    "version": 3
   },
   "file_extension": ".py",
   "mimetype": "text/x-python",
   "name": "python",
   "nbconvert_exporter": "python",
   "pygments_lexer": "ipython3",
   "version": "3.8.5"
  }
 },
 "nbformat": 4,
 "nbformat_minor": 4
}
